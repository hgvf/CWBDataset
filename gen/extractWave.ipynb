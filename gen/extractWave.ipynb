{
 "cells": [
  {
   "cell_type": "code",
   "execution_count": 1,
   "id": "c0362f0d",
   "metadata": {},
   "outputs": [],
   "source": [
    "import numpy as np\n",
    "import json\n",
    "import glob\n",
    "import os\n",
    "import matplotlib.pyplot as plt\n",
    "from tqdm import tqdm"
   ]
  },
  {
   "cell_type": "code",
   "execution_count": 2,
   "id": "05b28a43",
   "metadata": {},
   "outputs": [],
   "source": [
    "# 取得某個階段的所有檔名\n",
    "def get_filename(root_dir):\n",
    "    tmp = glob.glob(root_dir + '/*.json')\n",
    "        \n",
    "    return tmp"
   ]
  },
  {
   "cell_type": "code",
   "execution_count": 3,
   "id": "216d01f2",
   "metadata": {},
   "outputs": [],
   "source": [
    "def writeTXT(z, n, e, save_path, k, w):    \n",
    "    tmp = k + '_' + str(w)\n",
    "    filepath = os.path.join(save_path, tmp)\n",
    "\n",
    "    with open(filepath+'.txt', 'w') as file:\n",
    "        file.write('\\tZ\\tN\\tE\\n')\n",
    "        for i in range(z.shape[0]):\n",
    "            file.write('\\t{}\\t{}\\t{}\\n'.format(z[i], n[i], e[i]))\n",
    "    \n",
    "    #return filepath[15:]+'.txt'\n",
    "    return filepath[22:]+'.txt'"
   ]
  },
  {
   "cell_type": "code",
   "execution_count": 4,
   "id": "087189a2",
   "metadata": {},
   "outputs": [],
   "source": [
    "def extractWave(p, save_path):\n",
    "    save_path = os.path.join(save_path, p['event'])\n",
    "    if not os.path.exists(save_path):\n",
    "        #print('creating directiory: %s' %(save_path))\n",
    "        os.mkdir(save_path)\n",
    "    \n",
    "    for k in p.keys():\n",
    "        try:\n",
    "            # 看測站內有多少組波形資料\n",
    "            n_data = p[k]['numberOfData']\n",
    "            for w in range(n_data):\n",
    "                # get Z, N, E, convert to ndarray\n",
    "                z, n, e = p[k][str(w)]['Z'], p[k][str(w)]['N'], p[k][str(w)]['E']\n",
    "                z, n, e = np.array(z), np.array(n), np.array(e)\n",
    "                \n",
    "                # multiply z, n, e by factor\n",
    "                z, n, e = z*p[k][str(w)]['factor'][0], n*p[k][str(w)]['factor'][1], e*p[k][str(w)]['factor'][2]\n",
    "                instrument = p[k][str(w)]['instrument']\n",
    "                \n",
    "                # extract waveform & remove waveform from json\n",
    "                waveFile = writeTXT(z, n, e, save_path, k, w)\n",
    "\n",
    "                p[k][str(w)]['waveFile'] = waveFile\n",
    "\n",
    "                del p[k][str(w)]['Z'], p[k][str(w)]['N'], p[k][str(w)]['E']\n",
    "                del p[k][str(w)]['factor']\n",
    "               \n",
    "        except Exception as e:\n",
    "            #print(e)\n",
    "            pass\n",
    "        \n",
    "    return p"
   ]
  },
  {
   "cell_type": "markdown",
   "id": "e0fd0b7e",
   "metadata": {},
   "source": [
    "# finish: 2012, 2013, 2014, 2015, 2016, 2017, 2018, 2019, 2020, 2021\n",
    "year = '2013'\n",
    "root_path = '/mnt/nas6/CWBSN/'+year\n",
    "save_path = '/code/blog/static/blog/images/CWBSN/' + year + '/wave'\n",
    "files = get_filename(root_path)"
   ]
  },
  {
   "cell_type": "markdown",
   "id": "7a61e773",
   "metadata": {},
   "source": [
    "path = os.path.join(root_path, 'wave')\n",
    "if not os.path.exists(path):\n",
    "    print('creating directiory: %s' %(path))\n",
    "    os.mkdir(path)"
   ]
  },
  {
   "cell_type": "markdown",
   "id": "a6831184",
   "metadata": {},
   "source": [
    "for file in tqdm(files):\n",
    "    try:\n",
    "        f = open(os.path.join(root_path, file), 'r')\n",
    "        p = json.load(f)\n",
    "\n",
    "        p = extractWave(p, path)\n",
    "\n",
    "        # delete original json file\n",
    "        os.remove(os.path.join(root_path, file))\n",
    "\n",
    "        with open(os.path.join(root_path, file), 'w') as f:\n",
    "            json.dump(p, f)\n",
    "    except Exception as e:\n",
    "        print(e)\n",
    "        with open('/mnt/nas6/CWBSN/extract.txt', 'w') as f:\n",
    "            f.write(file+'\\n')"
   ]
  },
  {
   "cell_type": "markdown",
   "id": "168548ea",
   "metadata": {},
   "source": [
    "def readWave(path):\n",
    "    with open(path, 'r')as f:\n",
    "        tmp = f.readlines()\n",
    "\n",
    "    z, n, e = [], [], []\n",
    "    for i in tmp[1:]:\n",
    "        value = i.split()\n",
    "\n",
    "        z.append(value[0])\n",
    "        n.append(value[1])\n",
    "        e.append(value[2])\n",
    "        \n",
    "    z, n, e = np.array(z), np.array(n), np.array(e)\n",
    "    z, n, e = z.astype(float), n.astype(float), e.astype(float)\n",
    "    \n",
    "    return z, n, e"
   ]
  },
  {
   "cell_type": "code",
   "execution_count": null,
   "id": "21f08147",
   "metadata": {},
   "outputs": [],
   "source": []
  }
 ],
 "metadata": {
  "kernelspec": {
   "display_name": "earthquake",
   "language": "python",
   "name": "earthquake"
  },
  "language_info": {
   "codemirror_mode": {
    "name": "ipython",
    "version": 3
   },
   "file_extension": ".py",
   "mimetype": "text/x-python",
   "name": "python",
   "nbconvert_exporter": "python",
   "pygments_lexer": "ipython3",
   "version": "3.8.6"
  }
 },
 "nbformat": 4,
 "nbformat_minor": 5
}
